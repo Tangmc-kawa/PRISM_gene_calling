{
 "cells": [
  {
   "cell_type": "code",
   "execution_count": 1,
   "metadata": {},
   "outputs": [
    {
     "data": {
      "text/html": [
       "<div>\n",
       "<style scoped>\n",
       "    .dataframe tbody tr th:only-of-type {\n",
       "        vertical-align: middle;\n",
       "    }\n",
       "\n",
       "    .dataframe tbody tr th {\n",
       "        vertical-align: top;\n",
       "    }\n",
       "\n",
       "    .dataframe thead th {\n",
       "        text-align: right;\n",
       "    }\n",
       "</style>\n",
       "<table border=\"1\" class=\"dataframe\">\n",
       "  <thead>\n",
       "    <tr style=\"text-align: right;\">\n",
       "      <th></th>\n",
       "      <th>Y</th>\n",
       "      <th>X</th>\n",
       "      <th>Gene</th>\n",
       "    </tr>\n",
       "  </thead>\n",
       "  <tbody>\n",
       "    <tr>\n",
       "      <th>0</th>\n",
       "      <td>6399</td>\n",
       "      <td>1249</td>\n",
       "      <td>PRISM_7</td>\n",
       "    </tr>\n",
       "    <tr>\n",
       "      <th>1</th>\n",
       "      <td>11581</td>\n",
       "      <td>9484</td>\n",
       "      <td>PRISM_7</td>\n",
       "    </tr>\n",
       "    <tr>\n",
       "      <th>2</th>\n",
       "      <td>2393</td>\n",
       "      <td>8189</td>\n",
       "      <td>PRISM_7</td>\n",
       "    </tr>\n",
       "    <tr>\n",
       "      <th>3</th>\n",
       "      <td>2862</td>\n",
       "      <td>8712</td>\n",
       "      <td>PRISM_7</td>\n",
       "    </tr>\n",
       "    <tr>\n",
       "      <th>4</th>\n",
       "      <td>10829</td>\n",
       "      <td>6472</td>\n",
       "      <td>PRISM_7</td>\n",
       "    </tr>\n",
       "  </tbody>\n",
       "</table>\n",
       "</div>"
      ],
      "text/plain": [
       "       Y     X     Gene\n",
       "0   6399  1249  PRISM_7\n",
       "1  11581  9484  PRISM_7\n",
       "2   2393  8189  PRISM_7\n",
       "3   2862  8712  PRISM_7\n",
       "4  10829  6472  PRISM_7"
      ]
     },
     "execution_count": 1,
     "metadata": {},
     "output_type": "execute_result"
    }
   ],
   "source": [
    "import os\n",
    "import pandas as pd\n",
    "from tqdm import tqdm\n",
    "from tqdm import trange\n",
    "from glob import glob\n",
    "workdir = ''\n",
    "rna_df = pd.read_csv(r'E:\\TMC\\PRISM_point_typing\\dataset\\20231218_PRISM30_DGA_1\\endo_labeled.csv')[['Y','X','Gene']]\n",
    "rna_df['Y'] = rna_df['Y'].astype(int)\n",
    "rna_df['X'] = rna_df['X'].astype(int)\n",
    "genes = set(rna_df['Gene'])\n",
    "rna_df.head()"
   ]
  },
  {
   "cell_type": "code",
   "execution_count": 2,
   "metadata": {},
   "outputs": [
    {
     "name": "stderr",
     "output_type": "stream",
     "text": [
      "100%|██████████| 31/31 [00:06<00:00,  4.63it/s]\n"
     ]
    }
   ],
   "source": [
    "from draw_spots import crop_df\n",
    "from skimage.io import imread\n",
    "from skimage.io import imsave\n",
    "import numpy as np\n",
    "from tqdm import tqdm\n",
    "from tqdm import trange\n",
    "\n",
    "im = np.zeros((13575, 13548),dtype=np.uint16)\n",
    "\n",
    "def plot_density_downsample(df,filename,fac=50):\n",
    "    y = (im.shape[0] // fac) + 1\n",
    "    x = (im.shape[1] // fac) + 1\n",
    "    coordinates = df[['Y','X']].to_numpy()\n",
    "    canvas = np.zeros((y*fac,x*fac),dtype=np.uint16)\n",
    "    canvas[coordinates[:,0],coordinates[:,1]] = 1\n",
    "    canvas_down = canvas.reshape(y,fac,x,fac).sum(-1).sum(1)\n",
    "    imsave(filename,canvas_down.astype(np.uint16),check_contrast=False)\n",
    "\n",
    "try:\n",
    "    os.mkdir('./density_31')\n",
    "except FileExistsError:\n",
    "    pass\n",
    "\n",
    "for gene in tqdm(genes):\n",
    "    if glob(os.path.join('./density_31',f'{gene}.tif')):\n",
    "        continue\n",
    "    else:\n",
    "        df = rna_df[rna_df['Gene']==gene]\n",
    "        plot_density_downsample(df,f'./density_31/{gene}.tif')\n"
   ]
  },
  {
   "cell_type": "code",
   "execution_count": 12,
   "metadata": {},
   "outputs": [
    {
     "name": "stderr",
     "output_type": "stream",
     "text": [
      "100%|██████████| 11/11 [00:19<00:00,  1.79s/it]\n"
     ]
    }
   ],
   "source": [
    "from draw_spots import crop_df\n",
    "from skimage.io import imread\n",
    "from skimage.io import imsave\n",
    "import numpy as np\n",
    "from tqdm import tqdm\n",
    "from tqdm import trange\n",
    "\n",
    "im = np.zeros((46781,33466),dtype=np.uint16)\n",
    "\n",
    "def plot_density_downsample(df,filename,fac=100):\n",
    "    y = (im.shape[0] // fac) + 1\n",
    "    x = (im.shape[1] // fac) + 1\n",
    "    coordinates = df[['Y','X']].to_numpy()\n",
    "    canvas = np.zeros((y*fac,x*fac),dtype=np.uint16)\n",
    "    canvas[coordinates[:,0],coordinates[:,1]] = 1\n",
    "    canvas_down = canvas.reshape(y,100,x,100).sum(-1).sum(1)\n",
    "    imsave(filename,canvas_down.astype(np.uint16),check_contrast=False)\n",
    "\n",
    "try:\n",
    "    os.mkdir('./density_RMdup')\n",
    "except FileExistsError:\n",
    "    pass\n",
    "\n",
    "for gene in tqdm(genes):\n",
    "    if glob(os.path.join('./density_RMdup',f'{gene}.tif')):\n",
    "        continue\n",
    "    else:\n",
    "        df = rna_df[rna_df['Gene']==gene]\n",
    "        plot_density_downsample(df,f'./density_RMdup/{gene}.tif')"
   ]
  },
  {
   "cell_type": "code",
   "execution_count": 34,
   "metadata": {},
   "outputs": [],
   "source": [
    "from itertools import combinations\n",
    "import yaml\n",
    "import ast\n",
    "def hamming(x,y):\n",
    "    hamm = 0\n",
    "    for a,b in zip(x,y):\n",
    "        if a!=b:\n",
    "            hamm += 1\n",
    "    return hamm\n",
    "def overlap(seq_x,seq_y):\n",
    "    output = ''\n",
    "    for x,y in zip(seq_x,seq_y):\n",
    "        if x == y:\n",
    "            output += x\n",
    "        elif 'G' not in x+y:\n",
    "            output += 'A'\n",
    "        else:\n",
    "            if 'C' in x+y:\n",
    "                output += 'C'\n",
    "            elif 'T' in x+y:\n",
    "                output += 'T'\n",
    "    return output\n",
    "df = pd.read_csv('mapped_tophat_raw.csv')[['Y','X','Gene']]\n",
    "df['Gene'] = df['Gene'].apply(lambda x: ast.literal_eval(x))\n",
    "df['Gene'] = df['Gene'].apply(lambda x: ','.join(x))\n",
    "# df.columns = ['Y','X','Name']\n",
    "# df['Gene'] = df['Name'].apply(lambda x: x.split('-')[0])\n",
    "# rna_df['Gene'] = rna_df['Gene'].apply(lambda x: x.split('-')[0])\n",
    "ref_df = pd.read_excel('0811_gene_49_full.xlsx')[['Gene','Inner Index','Barcode']]\n",
    "ref_df['Inner Index'] = ref_df['Inner Index'].astype(str)\n",
    "ref_df['Name'] = ref_df[['Gene','Inner Index']].agg('-'.join, axis=1)\n",
    "df_gene_group = ref_df.groupby('Gene')\n",
    "genes_dict = {}\n",
    "for group in df_gene_group.groups:\n",
    "    temp_df = df_gene_group.get_group(group)\n",
    "    pairs = tuple(combinations(temp_df.index,2))\n",
    "    gene_dict = {}\n",
    "    for pair in pairs:\n",
    "        name_x = temp_df.loc[pair[0],'Name']\n",
    "        name_y = temp_df.loc[pair[1],'Name']\n",
    "        seq_x = temp_df.loc[pair[0],'Barcode']\n",
    "        seq_y = temp_df.loc[pair[1],'Barcode']\n",
    "        seq_xy = overlap(seq_x,seq_y)\n",
    "        count_dict = {}\n",
    "        count_dict[seq_x] = len(df[df['Gene']==name_x])\n",
    "        count_dict[seq_y] = len(df[df['Gene']==name_y])\n",
    "        count_dict[seq_xy] = len(df[df['Gene']==(f'{name_x},{name_y}' or f'{name_y},{name_x}')])\n",
    "        gene_dict[f'{name_x},{name_y}'] = count_dict\n",
    "    genes_dict[group] = gene_dict\n",
    "with open('overlap_meta.txt','w') as f:\n",
    "    yaml.dump(genes_dict,f,default_flow_style=False)"
   ]
  },
  {
   "cell_type": "code",
   "execution_count": 3,
   "metadata": {},
   "outputs": [
    {
     "name": "stdout",
     "output_type": "stream",
     "text": [
      "24436523\n"
     ]
    }
   ],
   "source": [
    "print(len(rna_df))"
   ]
  }
 ],
 "metadata": {
  "interpreter": {
   "hash": "ad2bdc8ecc057115af97d19610ffacc2b4e99fae6737bb82f5d7fb13d2f2c186"
  },
  "kernelspec": {
   "display_name": "Python 3.8.5 ('base')",
   "language": "python",
   "name": "python3"
  },
  "language_info": {
   "codemirror_mode": {
    "name": "ipython",
    "version": 3
   },
   "file_extension": ".py",
   "mimetype": "text/x-python",
   "name": "python",
   "nbconvert_exporter": "python",
   "pygments_lexer": "ipython3",
   "version": "3.8.5"
  },
  "orig_nbformat": 4
 },
 "nbformat": 4,
 "nbformat_minor": 2
}
